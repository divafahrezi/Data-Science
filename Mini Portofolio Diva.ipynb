{
  "nbformat": 4,
  "nbformat_minor": 0,
  "metadata": {
    "kernelspec": {
      "display_name": "blenv3",
      "language": "python",
      "name": "blenv3"
    },
    "language_info": {
      "codemirror_mode": {
        "name": "ipython",
        "version": 3
      },
      "file_extension": ".py",
      "mimetype": "text/x-python",
      "name": "python",
      "nbconvert_exporter": "python",
      "pygments_lexer": "ipython3",
      "version": "3.6.8"
    },
    "toc": {
      "base_numbering": 1,
      "nav_menu": {},
      "number_sections": true,
      "sideBar": true,
      "skip_h1_title": false,
      "title_cell": "Table of Contents",
      "title_sidebar": "Contents",
      "toc_cell": false,
      "toc_position": {},
      "toc_section_display": true,
      "toc_window_display": true
    },
    "colab": {
      "provenance": [],
      "include_colab_link": true
    }
  },
  "cells": [
    {
      "cell_type": "markdown",
      "metadata": {
        "id": "view-in-github",
        "colab_type": "text"
      },
      "source": [
        "<a href=\"https://colab.research.google.com/github/divafahrezi/Python/blob/main/Mini%20Portofolio%20Diva.ipynb\" target=\"_parent\"><img src=\"https://colab.research.google.com/assets/colab-badge.svg\" alt=\"Open In Colab\"/></a>"
      ]
    },
    {
      "cell_type": "markdown",
      "metadata": {
        "heading_collapsed": true,
        "id": "IQZPHNVGE0jj"
      },
      "source": [
        "# Mini Portofolio Pyhton"
      ]
    },
    {
      "cell_type": "markdown",
      "metadata": {
        "hidden": true,
        "id": "yKMR8ypqE0jn"
      },
      "source": [
        "$\\textbf{Nama}$"
      ]
    },
    {
      "cell_type": "markdown",
      "metadata": {
        "hidden": true,
        "id": "bQ7VJlKEE0jo"
      },
      "source": [
        "- Nama: Muhamad Diva Fahrezi\n",
        "- IPK: 3.35"
      ]
    },
    {
      "cell_type": "markdown",
      "metadata": {
        "id": "cgd-tTOjE0jr"
      },
      "source": [
        "# Normal"
      ]
    },
    {
      "cell_type": "markdown",
      "metadata": {
        "heading_collapsed": true,
        "id": "ed8OiWGeE0jr"
      },
      "source": [
        "## 1. Operasi Variabel\n",
        "\n",
        "> Misal kita memiliki toko sepatu. Modal membeli 1 kodi sepatu adalah Rp 1.000.000. Setiap sepatu dijual seharga Rp 80.000. Buatlah variabel modal, kuantitas, dan harga_jual sesuai informasi di atas. Hitung profit yang didapatkan jika semua sepatu berhasil terjual, dan masukkan ke variabel profit.\n",
        "\n",
        "Saran langkah-langkah pengerjaan\n",
        "1. Convert terlebih dahulu kodi dalam jumlah barang (1 kodi = xyz buah sepatu)\n",
        "2. Gunakan operasi matematika sederhana untuk menghitung profit menggunakan tiga buah variabel yang sudah ditentukan"
      ]
    },
    {
      "cell_type": "code",
      "metadata": {
        "ExecuteTime": {
          "end_time": "2021-10-23T10:20:16.843127Z",
          "start_time": "2021-10-23T10:20:16.835236Z"
        },
        "hidden": true,
        "scrolled": true,
        "id": "ThOB9tEME0js",
        "outputId": "3ffa29e4-da4b-4ae7-8a46-045a5e2f3dd4",
        "colab": {
          "base_uri": "https://localhost:8080/"
        }
      },
      "source": [
        "modal = 1000000\n",
        "kuantitas = 20 #1 kodi 20 pasang\n",
        "harga_jual = 80000\n",
        "\n",
        "profit = ((harga_jual * kuantitas) - modal)\n",
        "\n",
        "print(f'Profit Jual Sepatu = {profit}')\n"
      ],
      "execution_count": null,
      "outputs": [
        {
          "output_type": "stream",
          "name": "stdout",
          "text": [
            "Profit Jual Sepatu = 600000\n"
          ]
        }
      ]
    },
    {
      "cell_type": "markdown",
      "metadata": {
        "hidden": true,
        "id": "8GaDbS89E0js"
      },
      "source": [
        "Jadi, dari profit di atas, dapat disimpulkan bahwa...\n",
        "\n",
        "*   Profit yang kita dapatkan dari hasil menjual sepatu adalah Rp600.000\n",
        "\n"
      ]
    },
    {
      "cell_type": "markdown",
      "metadata": {
        "id": "5oTZCAI4E0ju"
      },
      "source": [
        "## 2. Package Python dan Dictionary\n",
        "\n",
        "> Kita akan coba mengakses data scientific article dari PLOS corpus\n",
        "    Menggunakan API request dengan kode berikut :\n",
        "```\n",
        "import requests\n",
        "response = requests.get('http://api.plos.org/search?q=title:\"Drosophila\" AND body:\"RNA\"&fl=id,abstract')\n",
        "```\n",
        "**perhatikan tanda kutipnya tidak salah ketika meng-copy ke dalam python\n",
        "\n",
        "Pertanyaannya :\n",
        "Convert response.content dari request tersebut dari JSON Format ke dalam Dictionary, dan print-kan key di dalamnya apa saja\n",
        "\n",
        "Saran langkah-langkah pengerjaan\n",
        "1. Ikuti code dari soal, kemudian ekstrak value dari variable response menggunakan dot (.) content menjadi sebuah variabel baru (dictionary)\n",
        "2. Gunakan library json, convert hasil content menggunakan json.loads\n",
        "3. Print keys dari dictionary tersebut\n"
      ]
    },
    {
      "cell_type": "code",
      "metadata": {
        "ExecuteTime": {
          "end_time": "2021-10-23T10:20:40.890513Z",
          "start_time": "2021-10-23T10:20:40.882963Z"
        },
        "id": "RY1kdZAUE0ju",
        "colab": {
          "base_uri": "https://localhost:8080/"
        },
        "outputId": "66d72ae8-1b0b-424d-e344-d148698398fd"
      },
      "source": [
        "import requests\n",
        "import json\n",
        "\n",
        "response = requests.get('http://api.plos.org/search?q=title:\"Drosophila\" AND body:\"RNA\"&fl=id,abstract')\n",
        "\n",
        "dictionary = json.loads(response.content)\n",
        "\n",
        "print(\"Keys in the response dictionary:\")\n",
        "for key in dictionary.keys():\n",
        "    print(key)"
      ],
      "execution_count": 2,
      "outputs": [
        {
          "output_type": "stream",
          "name": "stdout",
          "text": [
            "Keys in the response dictionary:\n",
            "response\n"
          ]
        }
      ]
    },
    {
      "cell_type": "markdown",
      "metadata": {
        "id": "rvQnd_NgE0jv"
      },
      "source": [
        ":Jadi, dari url link di atas, kami menyimpulkan bahwa memiliki keys **response**"
      ]
    },
    {
      "cell_type": "markdown",
      "metadata": {
        "id": "wWstgpwIPDwR"
      },
      "source": [
        "# Intermediate"
      ]
    },
    {
      "cell_type": "markdown",
      "metadata": {
        "id": "AI0lJNgDE0jv"
      },
      "source": [
        "## 3. Operasi dalam List\n",
        "\n",
        "> Buatlah list dengan 10 nama kota di indonesia, kemudian:\n",
        "1. Urutkan nama kota di dalam list berdasarkan abjad (a)\n",
        "2. Ambil 4 kota pertama dari list tersebut (yang telah diurutkan) (b)\n",
        "3. Ambil 3 kota terakhir dari list tersebut (yang telah diurutkan) (c)\n",
        "\n",
        "Saran langkah-langkah pengerjaan\n",
        "1. Tidak ada ketentuan nama kota (misal berdasarkan provinsi X atau pulau Y), dibebaskan untuk memilih. Buat nama-nama kota tersebut dalam sebuah list.\n",
        "2. Gunakan fungsi sorted(X) untuk mengurutkan secara kecil-ke-besar (sesuai abjad), dimana X adalah contoh variabel list pada langkah (a)\n",
        "3. Gunakan hasil poin (a), urutkan nama kota di dalam list berdasarkan abjad, untuk mengerjakan poin (b) dan (c)."
      ]
    },
    {
      "cell_type": "code",
      "metadata": {
        "ExecuteTime": {
          "end_time": "2021-10-23T10:20:47.306584Z",
          "start_time": "2021-10-23T10:20:47.299827Z"
        },
        "scrolled": true,
        "id": "piGxWfIAE0jw",
        "colab": {
          "base_uri": "https://localhost:8080/"
        },
        "outputId": "bb16cc19-ee99-4378-9a92-8fd1d59a4272"
      },
      "source": [
        "nama_kota = [\"bandung\", \"medan\", \"padang\", \"jakarta\", \"jambi\", \"pekanbaru\", \"bogor\", \"palembang\", \"manado\", \"bali\"]\n",
        "baru = sorted(nama_kota)\n",
        "print(f'Nama Kota:{baru}')\n",
        "print(f\"4 Kota pertama setelah diurutkan: {baru[:4]}\")\n",
        "print(f\"3 Kota terakhir setelah diurutkan: {baru[7:]}\")\n"
      ],
      "execution_count": 17,
      "outputs": [
        {
          "output_type": "stream",
          "name": "stdout",
          "text": [
            "Nama Kota:['bali', 'bandung', 'bogor', 'jakarta', 'jambi', 'manado', 'medan', 'padang', 'palembang', 'pekanbaru']\n",
            "4 Kota pertama setelah diurutkan: ['bali', 'bandung', 'bogor', 'jakarta']\n",
            "3 Kota terakhir setelah diurutkan: ['padang', 'palembang', 'pekanbaru']\n"
          ]
        }
      ]
    },
    {
      "cell_type": "markdown",
      "metadata": {
        "id": "6nanVjCCE0jx"
      },
      "source": [
        "## 4. Function dalam List\n",
        "\n",
        "> Team sales memiliki list total transaksi dari 10 merchant pada bulan Juni 2020, yaitu:\n",
        "```\n",
        "total_transaksi = [ 19, 35, 23, 25, 10, 15, 33, 45, 21, 30 ]\n",
        "```\n",
        "1. Trx minimum\n",
        "2. Rata-rata\n",
        "3. Trx maksimal\n",
        "\n",
        "Saran langkah-langkah pengerjaan\n",
        "1. Copy variabel total_transaksi yang ada di soal ke notebook kita (atau ketik ulang boleh)\n",
        "2. Kemudian, hitung menggunakan function operasi dalam list yang telah dipelajari di kelas pada topik list. Print hasilnya setiap poin (a), (b), dan (c)"
      ]
    },
    {
      "cell_type": "code",
      "metadata": {
        "ExecuteTime": {
          "end_time": "2021-10-23T10:20:52.903045Z",
          "start_time": "2021-10-23T10:20:52.894900Z"
        },
        "scrolled": true,
        "id": "HxvjrB2RE0jx",
        "colab": {
          "base_uri": "https://localhost:8080/"
        },
        "outputId": "0872ce5b-e038-48bd-8326-d808c126d753"
      },
      "source": [
        "total_transaksi = [ 19, 35, 23, 25, 10, 15, 33, 45, 21, 30 ]\n",
        "jumlah = len(total_transaksi)\n",
        "\n",
        "trx_min = min(total_transaksi)\n",
        "avg = sum(total_transaksi)/jumlah\n",
        "trx_max = max(total_transaksi)\n",
        "\n",
        "print(f'Nilai Minimal: {trx_min}')\n",
        "print(f'Nilai Rata-rata: {avg}')\n",
        "print(f'Nilai Maksimal: {trx_max}')"
      ],
      "execution_count": 26,
      "outputs": [
        {
          "output_type": "stream",
          "name": "stdout",
          "text": [
            "Nilai Minimal: 10\n",
            "Nilai Rata-rata: 25.6\n",
            "Nilai Maksimal: 45\n"
          ]
        }
      ]
    },
    {
      "cell_type": "markdown",
      "metadata": {
        "id": "f4EkwISgE0jx"
      },
      "source": [
        "# Advanced"
      ]
    },
    {
      "cell_type": "markdown",
      "metadata": {
        "id": "fmaX-pu5E0jy"
      },
      "source": [
        "## 5. NumPy Array\n",
        "\n",
        "> Buatlah array dari 5 bilangan ganjil pertama (dimulai dari 1), Kemudian lakukan perintah berikut :\n",
        "1. Kali-kan array tersebut dengan 10\n",
        "2. Bagi-kan array (hasil dari bagian a) dengan 3\n",
        "3. Kali-kan array (hasil dari bagian b) dengan array baru :\n",
        "`[-45, 43, 3, 56, 5]`\n",
        "4. Carilah pada index ke-berapa nilai tertinggi dan terendah dari array (hasil dari bagian c)\n",
        "\n",
        "Saran langkah-langkah pengerjaan\n",
        "1. HATI-HATI dalam pengerjaan, karena apabila poin sebelumnya salah, maka selanjutnya akan kebawa salah (misal (b) salah, maka poin (c) sampai (d) akan salah)\n",
        "2. Untuk array 5 bilangan ganjil pertama boleh manual boleh menggunakan fungsi, dimulai dari 1\n",
        "3. Ikuti perintah soal, gunakan numpy array, jangan list. Sesuaikan dengan permintaan soal pada setiap butir.\n",
        "\n"
      ]
    },
    {
      "cell_type": "code",
      "metadata": {
        "ExecuteTime": {
          "end_time": "2021-10-23T10:20:59.988806Z",
          "start_time": "2021-10-23T10:20:59.980744Z"
        },
        "scrolled": true,
        "id": "VTTOjU8wE0jy",
        "colab": {
          "base_uri": "https://localhost:8080/"
        },
        "outputId": "11f03470-cae1-49a7-98a1-ebcec728ae8e"
      },
      "source": [
        "import numpy as np\n",
        "\n",
        "# Langkah 1: Buat array dari 5 bilangan ganjil pertama\n",
        "array_a = np.array([1, 3, 5, 7, 9])\n",
        "\n",
        "# Langkah 2: Kali-kan array dengan 10\n",
        "array_b = array_a * 10\n",
        "\n",
        "# Langkah 3: Bagi-kan array_b dengan 3\n",
        "array_c = np.round(array_b / 3, 2)\n",
        "\n",
        "# Array baru yang diberikan\n",
        "array_d = np.array([-45, 43, 3, 56, 5])\n",
        "\n",
        "# Langkah 4: Kali-kan array_c dengan array_d\n",
        "array_e = array_c * array_d\n",
        "\n",
        "# Langkah 5: Carilah index nilai tertinggi dan terendah dari array_e\n",
        "index_max = np.argmax(array_e)\n",
        "index_min = np.argmin(array_e)\n",
        "\n",
        "print(\"Array a:\", array_a)\n",
        "print(\"Array b:\", array_b)\n",
        "print(\"Array c:\", array_c)\n",
        "print(\"Array d:\", array_d)\n",
        "print(\"Array e:\", array_e)\n",
        "print(\"Index nilai tertinggi:\", index_max)\n",
        "print(\"Index nilai terendah:\", index_min)"
      ],
      "execution_count": 29,
      "outputs": [
        {
          "output_type": "stream",
          "name": "stdout",
          "text": [
            "Array a: [1 3 5 7 9]\n",
            "Array b: [10 30 50 70 90]\n",
            "Array c: [ 3.33 10.   16.67 23.33 30.  ]\n",
            "Array d: [-45  43   3  56   5]\n",
            "Array e: [-149.85  430.     50.01 1306.48  150.  ]\n",
            "Index nilai tertinggi: 3\n",
            "Index nilai terendah: 0\n"
          ]
        }
      ]
    },
    {
      "cell_type": "markdown",
      "metadata": {
        "id": "LLIlxgN3Pmwj"
      },
      "source": [
        "# Terimakasih, salam dari Bogor"
      ]
    }
  ]
}